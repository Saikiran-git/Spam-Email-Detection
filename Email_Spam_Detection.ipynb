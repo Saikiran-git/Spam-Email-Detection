{
  "nbformat": 4,
  "nbformat_minor": 0,
  "metadata": {
    "colab": {
      "name": "Email Spam Detection.ipynb",
      "provenance": [],
      "authorship_tag": "ABX9TyOTqRIZqhBBjb8F+Tyte9RE",
      "include_colab_link": true
    },
    "kernelspec": {
      "name": "python3",
      "display_name": "Python 3"
    },
    "language_info": {
      "name": "python"
    }
  },
  "cells": [
    {
      "cell_type": "markdown",
      "metadata": {
        "id": "view-in-github",
        "colab_type": "text"
      },
      "source": [
        "<a href=\"https://colab.research.google.com/github/Saikiran-git/Spam-Email-Detection/blob/main/Email_Spam_Detection.ipynb\" target=\"_parent\"><img src=\"https://colab.research.google.com/assets/colab-badge.svg\" alt=\"Open In Colab\"/></a>"
      ]
    },
    {
      "cell_type": "markdown",
      "metadata": {
        "id": "7imAuNGzvTBj"
      },
      "source": [
        "# **Machine Learning algorithm for Email Spam Detection**"
      ]
    },
    {
      "cell_type": "code",
      "metadata": {
        "id": "Y29Y2wvBlUxw"
      },
      "source": [
        "import pandas as pd"
      ],
      "execution_count": 1,
      "outputs": []
    },
    {
      "cell_type": "code",
      "metadata": {
        "id": "TXFuLRqQpjGM"
      },
      "source": [
        "dataset = pd.read_csv(\"spam.csv\")"
      ],
      "execution_count": 2,
      "outputs": []
    },
    {
      "cell_type": "markdown",
      "metadata": {
        "id": "aXeTBrFKvk1x"
      },
      "source": [
        "## **Data Cleaning**"
      ]
    },
    {
      "cell_type": "code",
      "metadata": {
        "colab": {
          "base_uri": "https://localhost:8080/",
          "height": 206
        },
        "id": "GUu_RDi3qWF1",
        "outputId": "b481b88b-639f-497a-d393-5a7e7d8a0da4"
      },
      "source": [
        "dataset.sample(5)"
      ],
      "execution_count": 3,
      "outputs": [
        {
          "output_type": "execute_result",
          "data": {
            "text/html": [
              "<div>\n",
              "<style scoped>\n",
              "    .dataframe tbody tr th:only-of-type {\n",
              "        vertical-align: middle;\n",
              "    }\n",
              "\n",
              "    .dataframe tbody tr th {\n",
              "        vertical-align: top;\n",
              "    }\n",
              "\n",
              "    .dataframe thead th {\n",
              "        text-align: right;\n",
              "    }\n",
              "</style>\n",
              "<table border=\"1\" class=\"dataframe\">\n",
              "  <thead>\n",
              "    <tr style=\"text-align: right;\">\n",
              "      <th></th>\n",
              "      <th>Category</th>\n",
              "      <th>Message</th>\n",
              "    </tr>\n",
              "  </thead>\n",
              "  <tbody>\n",
              "    <tr>\n",
              "      <th>4387</th>\n",
              "      <td>ham</td>\n",
              "      <td>, im .. On the snowboarding trip. I was wonder...</td>\n",
              "    </tr>\n",
              "    <tr>\n",
              "      <th>2995</th>\n",
              "      <td>ham</td>\n",
              "      <td>No idea, I guess we'll work that out an hour a...</td>\n",
              "    </tr>\n",
              "    <tr>\n",
              "      <th>3651</th>\n",
              "      <td>ham</td>\n",
              "      <td>We are hoping to get away by 7, from Langport....</td>\n",
              "    </tr>\n",
              "    <tr>\n",
              "      <th>2776</th>\n",
              "      <td>ham</td>\n",
              "      <td>We confirm eating at esplanade?</td>\n",
              "    </tr>\n",
              "    <tr>\n",
              "      <th>1466</th>\n",
              "      <td>spam</td>\n",
              "      <td>YOU 07801543489 are guaranteed the latests Nok...</td>\n",
              "    </tr>\n",
              "  </tbody>\n",
              "</table>\n",
              "</div>"
            ],
            "text/plain": [
              "     Category                                            Message\n",
              "4387      ham  , im .. On the snowboarding trip. I was wonder...\n",
              "2995      ham  No idea, I guess we'll work that out an hour a...\n",
              "3651      ham  We are hoping to get away by 7, from Langport....\n",
              "2776      ham                    We confirm eating at esplanade?\n",
              "1466     spam  YOU 07801543489 are guaranteed the latests Nok..."
            ]
          },
          "metadata": {},
          "execution_count": 3
        }
      ]
    },
    {
      "cell_type": "code",
      "metadata": {
        "colab": {
          "base_uri": "https://localhost:8080/"
        },
        "id": "ICx178TdqYA6",
        "outputId": "e9a87b0e-f9af-46e0-9b79-6e7116586fbb"
      },
      "source": [
        "dataset.info()"
      ],
      "execution_count": 4,
      "outputs": [
        {
          "output_type": "stream",
          "name": "stdout",
          "text": [
            "<class 'pandas.core.frame.DataFrame'>\n",
            "RangeIndex: 5572 entries, 0 to 5571\n",
            "Data columns (total 2 columns):\n",
            " #   Column    Non-Null Count  Dtype \n",
            "---  ------    --------------  ----- \n",
            " 0   Category  5572 non-null   object\n",
            " 1   Message   5572 non-null   object\n",
            "dtypes: object(2)\n",
            "memory usage: 87.2+ KB\n"
          ]
        }
      ]
    },
    {
      "cell_type": "code",
      "metadata": {
        "colab": {
          "base_uri": "https://localhost:8080/"
        },
        "id": "uY-b1yYpqkx8",
        "outputId": "a2878e7e-442c-44fa-a66a-c0690f1fe468"
      },
      "source": [
        "dataset.shape"
      ],
      "execution_count": 5,
      "outputs": [
        {
          "output_type": "execute_result",
          "data": {
            "text/plain": [
              "(5572, 2)"
            ]
          },
          "metadata": {},
          "execution_count": 5
        }
      ]
    },
    {
      "cell_type": "code",
      "metadata": {
        "id": "SZMigVEMq0Tb"
      },
      "source": [
        "from sklearn.preprocessing import LabelEncoder\n",
        "labelEncoder = LabelEncoder()"
      ],
      "execution_count": 6,
      "outputs": []
    },
    {
      "cell_type": "code",
      "metadata": {
        "colab": {
          "base_uri": "https://localhost:8080/",
          "height": 363
        },
        "id": "_4OnW3X0ro8m",
        "outputId": "63930393-28d4-457d-a458-568306242274"
      },
      "source": [
        "dataset['Category'] = labelEncoder.fit_transform(dataset['Category'])\n",
        "dataset.sample(10)"
      ],
      "execution_count": 7,
      "outputs": [
        {
          "output_type": "execute_result",
          "data": {
            "text/html": [
              "<div>\n",
              "<style scoped>\n",
              "    .dataframe tbody tr th:only-of-type {\n",
              "        vertical-align: middle;\n",
              "    }\n",
              "\n",
              "    .dataframe tbody tr th {\n",
              "        vertical-align: top;\n",
              "    }\n",
              "\n",
              "    .dataframe thead th {\n",
              "        text-align: right;\n",
              "    }\n",
              "</style>\n",
              "<table border=\"1\" class=\"dataframe\">\n",
              "  <thead>\n",
              "    <tr style=\"text-align: right;\">\n",
              "      <th></th>\n",
              "      <th>Category</th>\n",
              "      <th>Message</th>\n",
              "    </tr>\n",
              "  </thead>\n",
              "  <tbody>\n",
              "    <tr>\n",
              "      <th>1345</th>\n",
              "      <td>0</td>\n",
              "      <td>Were somewhere on Fredericksburg</td>\n",
              "    </tr>\n",
              "    <tr>\n",
              "      <th>5540</th>\n",
              "      <td>1</td>\n",
              "      <td>ASKED 3MOBILE IF 0870 CHATLINES INCLU IN FREE ...</td>\n",
              "    </tr>\n",
              "    <tr>\n",
              "      <th>5560</th>\n",
              "      <td>0</td>\n",
              "      <td>Anything lor. Juz both of us lor.</td>\n",
              "    </tr>\n",
              "    <tr>\n",
              "      <th>990</th>\n",
              "      <td>0</td>\n",
              "      <td>Ugh. Gotta drive back to sd from la. My butt i...</td>\n",
              "    </tr>\n",
              "    <tr>\n",
              "      <th>4993</th>\n",
              "      <td>0</td>\n",
              "      <td>I'm hungry buy smth home...</td>\n",
              "    </tr>\n",
              "    <tr>\n",
              "      <th>1898</th>\n",
              "      <td>0</td>\n",
              "      <td>Aight, sounds good. When do you want me to com...</td>\n",
              "    </tr>\n",
              "    <tr>\n",
              "      <th>1055</th>\n",
              "      <td>0</td>\n",
              "      <td>HIYA COMIN 2 BRISTOL 1 ST WEEK IN APRIL. LES G...</td>\n",
              "    </tr>\n",
              "    <tr>\n",
              "      <th>2410</th>\n",
              "      <td>0</td>\n",
              "      <td>Aww that's the first time u said u missed me w...</td>\n",
              "    </tr>\n",
              "    <tr>\n",
              "      <th>405</th>\n",
              "      <td>0</td>\n",
              "      <td>Yep, the great loxahatchee xmas tree burning o...</td>\n",
              "    </tr>\n",
              "    <tr>\n",
              "      <th>1749</th>\n",
              "      <td>0</td>\n",
              "      <td>Feel Yourself That You Are Always Happy.. Slow...</td>\n",
              "    </tr>\n",
              "  </tbody>\n",
              "</table>\n",
              "</div>"
            ],
            "text/plain": [
              "      Category                                            Message\n",
              "1345         0                   Were somewhere on Fredericksburg\n",
              "5540         1  ASKED 3MOBILE IF 0870 CHATLINES INCLU IN FREE ...\n",
              "5560         0                  Anything lor. Juz both of us lor.\n",
              "990          0  Ugh. Gotta drive back to sd from la. My butt i...\n",
              "4993         0                        I'm hungry buy smth home...\n",
              "1898         0  Aight, sounds good. When do you want me to com...\n",
              "1055         0  HIYA COMIN 2 BRISTOL 1 ST WEEK IN APRIL. LES G...\n",
              "2410         0  Aww that's the first time u said u missed me w...\n",
              "405          0  Yep, the great loxahatchee xmas tree burning o...\n",
              "1749         0  Feel Yourself That You Are Always Happy.. Slow..."
            ]
          },
          "metadata": {},
          "execution_count": 7
        }
      ]
    },
    {
      "cell_type": "code",
      "metadata": {
        "colab": {
          "base_uri": "https://localhost:8080/"
        },
        "id": "Aw6ChDJTsAXP",
        "outputId": "1f4a00ad-b515-430a-d963-890604a78e24"
      },
      "source": [
        "dataset.duplicated().sum()"
      ],
      "execution_count": 8,
      "outputs": [
        {
          "output_type": "execute_result",
          "data": {
            "text/plain": [
              "415"
            ]
          },
          "metadata": {},
          "execution_count": 8
        }
      ]
    },
    {
      "cell_type": "code",
      "metadata": {
        "id": "iQXV0dhFv1vN"
      },
      "source": [
        "dataset = dataset.drop_duplicates()"
      ],
      "execution_count": 9,
      "outputs": []
    },
    {
      "cell_type": "code",
      "metadata": {
        "colab": {
          "base_uri": "https://localhost:8080/"
        },
        "id": "m2pIjvkZwCW3",
        "outputId": "5167a26c-e0af-4210-fa35-1e699beb45bc"
      },
      "source": [
        "dataset.duplicated().sum()"
      ],
      "execution_count": 10,
      "outputs": [
        {
          "output_type": "execute_result",
          "data": {
            "text/plain": [
              "0"
            ]
          },
          "metadata": {},
          "execution_count": 10
        }
      ]
    },
    {
      "cell_type": "code",
      "metadata": {
        "colab": {
          "base_uri": "https://localhost:8080/"
        },
        "id": "B1Xgmz_ywEpx",
        "outputId": "d46abbd1-b448-4c54-d7ed-dce92d41b797"
      },
      "source": [
        "print(dataset['Category'].value_counts())\n",
        "print(\"\\nValues in percentage:\")\n",
        "print(dataset['Category'].value_counts(normalize=True)*100)"
      ],
      "execution_count": 11,
      "outputs": [
        {
          "output_type": "stream",
          "name": "stdout",
          "text": [
            "0    4516\n",
            "1     641\n",
            "Name: Category, dtype: int64\n",
            "\n",
            "Values in percentage:\n",
            "0    87.570293\n",
            "1    12.429707\n",
            "Name: Category, dtype: float64\n"
          ]
        }
      ]
    },
    {
      "cell_type": "markdown",
      "metadata": {
        "id": "ygCVpWIt4iI5"
      },
      "source": [
        "## **Data Preprocessing**"
      ]
    },
    {
      "cell_type": "code",
      "metadata": {
        "colab": {
          "base_uri": "https://localhost:8080/"
        },
        "id": "jAMCFFWs1Nj8",
        "outputId": "dadad236-16f9-4127-ce78-15b58b222c56"
      },
      "source": [
        "import nltk\n",
        "nltk.download('punkt')\n",
        "from nltk.stem.porter import PorterStemmer\n",
        "porterStemmer = PorterStemmer()\n",
        "nltk.download('stopwords')\n",
        "from nltk.corpus import stopwords\n",
        "import string"
      ],
      "execution_count": 12,
      "outputs": [
        {
          "output_type": "stream",
          "name": "stdout",
          "text": [
            "[nltk_data] Downloading package punkt to /root/nltk_data...\n",
            "[nltk_data]   Package punkt is already up-to-date!\n",
            "[nltk_data] Downloading package stopwords to /root/nltk_data...\n",
            "[nltk_data]   Package stopwords is already up-to-date!\n"
          ]
        }
      ]
    },
    {
      "cell_type": "code",
      "metadata": {
        "id": "JFcoGo4gAkzV"
      },
      "source": [
        "def preprocessing(line):\n",
        "  line = line.lower()\n",
        "  line = nltk.word_tokenize(line)\n",
        "  temp = []\n",
        "  for iter in line:\n",
        "    if iter.isalnum():\n",
        "      temp.append(iter)\n",
        "  line = temp[:]\n",
        "  temp.clear()\n",
        "  for iter in line:\n",
        "    if iter not in stopwords.words('english') and iter not in string.punctuation:\n",
        "      temp.append(iter)\n",
        "  line = temp[:]\n",
        "  temp.clear()\n",
        "  for iter in line:\n",
        "    temp.append(porterStemmer.stem(iter))\n",
        "\n",
        "  return str(\" \").join(temp)"
      ],
      "execution_count": 13,
      "outputs": []
    },
    {
      "cell_type": "code",
      "metadata": {
        "id": "ImBEaZDLCnxP"
      },
      "source": [
        "dataset['Processed_Message'] = dataset['Message'].apply(preprocessing)"
      ],
      "execution_count": 14,
      "outputs": []
    },
    {
      "cell_type": "code",
      "metadata": {
        "colab": {
          "base_uri": "https://localhost:8080/",
          "height": 363
        },
        "id": "z0JiQE93NV6e",
        "outputId": "3d14f848-f4cf-4061-dc74-7c8c229b3244"
      },
      "source": [
        "dataset.sample(10)"
      ],
      "execution_count": 15,
      "outputs": [
        {
          "output_type": "execute_result",
          "data": {
            "text/html": [
              "<div>\n",
              "<style scoped>\n",
              "    .dataframe tbody tr th:only-of-type {\n",
              "        vertical-align: middle;\n",
              "    }\n",
              "\n",
              "    .dataframe tbody tr th {\n",
              "        vertical-align: top;\n",
              "    }\n",
              "\n",
              "    .dataframe thead th {\n",
              "        text-align: right;\n",
              "    }\n",
              "</style>\n",
              "<table border=\"1\" class=\"dataframe\">\n",
              "  <thead>\n",
              "    <tr style=\"text-align: right;\">\n",
              "      <th></th>\n",
              "      <th>Category</th>\n",
              "      <th>Message</th>\n",
              "      <th>Processed_Message</th>\n",
              "    </tr>\n",
              "  </thead>\n",
              "  <tbody>\n",
              "    <tr>\n",
              "      <th>3199</th>\n",
              "      <td>0</td>\n",
              "      <td>7 lor... Change 2 suntec... Wat time u coming?</td>\n",
              "      <td>7 lor chang 2 suntec wat time u come</td>\n",
              "    </tr>\n",
              "    <tr>\n",
              "      <th>4940</th>\n",
              "      <td>0</td>\n",
              "      <td>Tomarrow i want to got to court. At  &amp;lt;DECIM...</td>\n",
              "      <td>tomarrow want got court lt decim gt come bu st...</td>\n",
              "    </tr>\n",
              "    <tr>\n",
              "      <th>74</th>\n",
              "      <td>0</td>\n",
              "      <td>U can call me now...</td>\n",
              "      <td>u call</td>\n",
              "    </tr>\n",
              "    <tr>\n",
              "      <th>2218</th>\n",
              "      <td>0</td>\n",
              "      <td>* Will have two more cartons off u and is very...</td>\n",
              "      <td>two carton u pleas shelv</td>\n",
              "    </tr>\n",
              "    <tr>\n",
              "      <th>1637</th>\n",
              "      <td>0</td>\n",
              "      <td>No shit, but I wasn't that surprised, so I wen...</td>\n",
              "      <td>shit surpris went spent even french guy met to...</td>\n",
              "    </tr>\n",
              "    <tr>\n",
              "      <th>2446</th>\n",
              "      <td>0</td>\n",
              "      <td>The guy (kadeem) hasn't been selling since the...</td>\n",
              "      <td>guy kadeem sell sinc break know one guy parano...</td>\n",
              "    </tr>\n",
              "    <tr>\n",
              "      <th>4408</th>\n",
              "      <td>0</td>\n",
              "      <td>Awesome, plan to get here any time after like ...</td>\n",
              "      <td>awesom plan get time like lt gt text detail we...</td>\n",
              "    </tr>\n",
              "    <tr>\n",
              "      <th>2485</th>\n",
              "      <td>0</td>\n",
              "      <td>Only if you promise your getting out as SOON a...</td>\n",
              "      <td>promis get soon text morn let know made ok</td>\n",
              "    </tr>\n",
              "    <tr>\n",
              "      <th>3643</th>\n",
              "      <td>0</td>\n",
              "      <td>My house here e sky quite dark liao... If rain...</td>\n",
              "      <td>hous e sky quit dark liao rain got excus 2 run...</td>\n",
              "    </tr>\n",
              "    <tr>\n",
              "      <th>18</th>\n",
              "      <td>0</td>\n",
              "      <td>Fine if thats the way u feel. Thats the way ...</td>\n",
              "      <td>fine way u feel way gota b</td>\n",
              "    </tr>\n",
              "  </tbody>\n",
              "</table>\n",
              "</div>"
            ],
            "text/plain": [
              "      Category  ...                                  Processed_Message\n",
              "3199         0  ...               7 lor chang 2 suntec wat time u come\n",
              "4940         0  ...  tomarrow want got court lt decim gt come bu st...\n",
              "74           0  ...                                             u call\n",
              "2218         0  ...                           two carton u pleas shelv\n",
              "1637         0  ...  shit surpris went spent even french guy met to...\n",
              "2446         0  ...  guy kadeem sell sinc break know one guy parano...\n",
              "4408         0  ...  awesom plan get time like lt gt text detail we...\n",
              "2485         0  ...         promis get soon text morn let know made ok\n",
              "3643         0  ...  hous e sky quit dark liao rain got excus 2 run...\n",
              "18           0  ...                         fine way u feel way gota b\n",
              "\n",
              "[10 rows x 3 columns]"
            ]
          },
          "metadata": {},
          "execution_count": 15
        }
      ]
    },
    {
      "cell_type": "code",
      "metadata": {
        "id": "XkSxVqGcNZBS"
      },
      "source": [
        "from collections import Counter"
      ],
      "execution_count": 16,
      "outputs": []
    },
    {
      "cell_type": "code",
      "metadata": {
        "id": "KTAc4xgFPHaB"
      },
      "source": [
        "spam_corpus = []\n",
        "for msg in dataset[dataset['Category'] == 1]['Processed_Message'].tolist():\n",
        "    for word in msg.split():\n",
        "        spam_corpus.append(word)"
      ],
      "execution_count": 17,
      "outputs": []
    },
    {
      "cell_type": "code",
      "metadata": {
        "colab": {
          "base_uri": "https://localhost:8080/"
        },
        "id": "1NdU4h8reDUu",
        "outputId": "e829f6fd-10a7-47e1-f177-eaa3fa271c11"
      },
      "source": [
        "len(spam_corpus)"
      ],
      "execution_count": 18,
      "outputs": [
        {
          "output_type": "execute_result",
          "data": {
            "text/plain": [
              "9726"
            ]
          },
          "metadata": {},
          "execution_count": 18
        }
      ]
    },
    {
      "cell_type": "code",
      "metadata": {
        "colab": {
          "base_uri": "https://localhost:8080/",
          "height": 989
        },
        "id": "bcIYYPvMeFYz",
        "outputId": "598b3a48-42a6-4d85-9230-f8f39dd9f8df"
      },
      "source": [
        "pd.DataFrame(Counter(spam_corpus).most_common(30))"
      ],
      "execution_count": 19,
      "outputs": [
        {
          "output_type": "execute_result",
          "data": {
            "text/html": [
              "<div>\n",
              "<style scoped>\n",
              "    .dataframe tbody tr th:only-of-type {\n",
              "        vertical-align: middle;\n",
              "    }\n",
              "\n",
              "    .dataframe tbody tr th {\n",
              "        vertical-align: top;\n",
              "    }\n",
              "\n",
              "    .dataframe thead th {\n",
              "        text-align: right;\n",
              "    }\n",
              "</style>\n",
              "<table border=\"1\" class=\"dataframe\">\n",
              "  <thead>\n",
              "    <tr style=\"text-align: right;\">\n",
              "      <th></th>\n",
              "      <th>0</th>\n",
              "      <th>1</th>\n",
              "    </tr>\n",
              "  </thead>\n",
              "  <tbody>\n",
              "    <tr>\n",
              "      <th>0</th>\n",
              "      <td>call</td>\n",
              "      <td>311</td>\n",
              "    </tr>\n",
              "    <tr>\n",
              "      <th>1</th>\n",
              "      <td>free</td>\n",
              "      <td>184</td>\n",
              "    </tr>\n",
              "    <tr>\n",
              "      <th>2</th>\n",
              "      <td>2</td>\n",
              "      <td>154</td>\n",
              "    </tr>\n",
              "    <tr>\n",
              "      <th>3</th>\n",
              "      <td>txt</td>\n",
              "      <td>139</td>\n",
              "    </tr>\n",
              "    <tr>\n",
              "      <th>4</th>\n",
              "      <td>text</td>\n",
              "      <td>122</td>\n",
              "    </tr>\n",
              "    <tr>\n",
              "      <th>5</th>\n",
              "      <td>ur</td>\n",
              "      <td>119</td>\n",
              "    </tr>\n",
              "    <tr>\n",
              "      <th>6</th>\n",
              "      <td>u</td>\n",
              "      <td>115</td>\n",
              "    </tr>\n",
              "    <tr>\n",
              "      <th>7</th>\n",
              "      <td>mobil</td>\n",
              "      <td>110</td>\n",
              "    </tr>\n",
              "    <tr>\n",
              "      <th>8</th>\n",
              "      <td>stop</td>\n",
              "      <td>108</td>\n",
              "    </tr>\n",
              "    <tr>\n",
              "      <th>9</th>\n",
              "      <td>repli</td>\n",
              "      <td>103</td>\n",
              "    </tr>\n",
              "    <tr>\n",
              "      <th>10</th>\n",
              "      <td>claim</td>\n",
              "      <td>96</td>\n",
              "    </tr>\n",
              "    <tr>\n",
              "      <th>11</th>\n",
              "      <td>prize</td>\n",
              "      <td>78</td>\n",
              "    </tr>\n",
              "    <tr>\n",
              "      <th>12</th>\n",
              "      <td>4</td>\n",
              "      <td>75</td>\n",
              "    </tr>\n",
              "    <tr>\n",
              "      <th>13</th>\n",
              "      <td>get</td>\n",
              "      <td>73</td>\n",
              "    </tr>\n",
              "    <tr>\n",
              "      <th>14</th>\n",
              "      <td>new</td>\n",
              "      <td>64</td>\n",
              "    </tr>\n",
              "    <tr>\n",
              "      <th>15</th>\n",
              "      <td>servic</td>\n",
              "      <td>64</td>\n",
              "    </tr>\n",
              "    <tr>\n",
              "      <th>16</th>\n",
              "      <td>send</td>\n",
              "      <td>60</td>\n",
              "    </tr>\n",
              "    <tr>\n",
              "      <th>17</th>\n",
              "      <td>tone</td>\n",
              "      <td>59</td>\n",
              "    </tr>\n",
              "    <tr>\n",
              "      <th>18</th>\n",
              "      <td>urgent</td>\n",
              "      <td>56</td>\n",
              "    </tr>\n",
              "    <tr>\n",
              "      <th>19</th>\n",
              "      <td>award</td>\n",
              "      <td>55</td>\n",
              "    </tr>\n",
              "    <tr>\n",
              "      <th>20</th>\n",
              "      <td>nokia</td>\n",
              "      <td>54</td>\n",
              "    </tr>\n",
              "    <tr>\n",
              "      <th>21</th>\n",
              "      <td>contact</td>\n",
              "      <td>53</td>\n",
              "    </tr>\n",
              "    <tr>\n",
              "      <th>22</th>\n",
              "      <td>phone</td>\n",
              "      <td>52</td>\n",
              "    </tr>\n",
              "    <tr>\n",
              "      <th>23</th>\n",
              "      <td>cash</td>\n",
              "      <td>50</td>\n",
              "    </tr>\n",
              "    <tr>\n",
              "      <th>24</th>\n",
              "      <td>pleas</td>\n",
              "      <td>49</td>\n",
              "    </tr>\n",
              "    <tr>\n",
              "      <th>25</th>\n",
              "      <td>week</td>\n",
              "      <td>48</td>\n",
              "    </tr>\n",
              "    <tr>\n",
              "      <th>26</th>\n",
              "      <td>win</td>\n",
              "      <td>46</td>\n",
              "    </tr>\n",
              "    <tr>\n",
              "      <th>27</th>\n",
              "      <td>min</td>\n",
              "      <td>45</td>\n",
              "    </tr>\n",
              "    <tr>\n",
              "      <th>28</th>\n",
              "      <td>c</td>\n",
              "      <td>43</td>\n",
              "    </tr>\n",
              "    <tr>\n",
              "      <th>29</th>\n",
              "      <td>guarante</td>\n",
              "      <td>42</td>\n",
              "    </tr>\n",
              "  </tbody>\n",
              "</table>\n",
              "</div>"
            ],
            "text/plain": [
              "           0    1\n",
              "0       call  311\n",
              "1       free  184\n",
              "2          2  154\n",
              "3        txt  139\n",
              "4       text  122\n",
              "5         ur  119\n",
              "6          u  115\n",
              "7      mobil  110\n",
              "8       stop  108\n",
              "9      repli  103\n",
              "10     claim   96\n",
              "11     prize   78\n",
              "12         4   75\n",
              "13       get   73\n",
              "14       new   64\n",
              "15    servic   64\n",
              "16      send   60\n",
              "17      tone   59\n",
              "18    urgent   56\n",
              "19     award   55\n",
              "20     nokia   54\n",
              "21   contact   53\n",
              "22     phone   52\n",
              "23      cash   50\n",
              "24     pleas   49\n",
              "25      week   48\n",
              "26       win   46\n",
              "27       min   45\n",
              "28         c   43\n",
              "29  guarante   42"
            ]
          },
          "metadata": {},
          "execution_count": 19
        }
      ]
    },
    {
      "cell_type": "code",
      "metadata": {
        "id": "NQiJtRW2eQq2"
      },
      "source": [
        "ham_corpus = []\n",
        "for msg in dataset[dataset['Category'] == 0]['Processed_Message'].tolist():\n",
        "    for word in msg.split():\n",
        "        ham_corpus.append(word)"
      ],
      "execution_count": 20,
      "outputs": []
    },
    {
      "cell_type": "code",
      "metadata": {
        "colab": {
          "base_uri": "https://localhost:8080/",
          "height": 989
        },
        "id": "oIjqZgjxevUO",
        "outputId": "29ba4682-8160-4ccb-bf53-4075f6bfa9cf"
      },
      "source": [
        "pd.DataFrame(Counter(ham_corpus).most_common(30))"
      ],
      "execution_count": 21,
      "outputs": [
        {
          "output_type": "execute_result",
          "data": {
            "text/html": [
              "<div>\n",
              "<style scoped>\n",
              "    .dataframe tbody tr th:only-of-type {\n",
              "        vertical-align: middle;\n",
              "    }\n",
              "\n",
              "    .dataframe tbody tr th {\n",
              "        vertical-align: top;\n",
              "    }\n",
              "\n",
              "    .dataframe thead th {\n",
              "        text-align: right;\n",
              "    }\n",
              "</style>\n",
              "<table border=\"1\" class=\"dataframe\">\n",
              "  <thead>\n",
              "    <tr style=\"text-align: right;\">\n",
              "      <th></th>\n",
              "      <th>0</th>\n",
              "      <th>1</th>\n",
              "    </tr>\n",
              "  </thead>\n",
              "  <tbody>\n",
              "    <tr>\n",
              "      <th>0</th>\n",
              "      <td>u</td>\n",
              "      <td>885</td>\n",
              "    </tr>\n",
              "    <tr>\n",
              "      <th>1</th>\n",
              "      <td>go</td>\n",
              "      <td>404</td>\n",
              "    </tr>\n",
              "    <tr>\n",
              "      <th>2</th>\n",
              "      <td>get</td>\n",
              "      <td>351</td>\n",
              "    </tr>\n",
              "    <tr>\n",
              "      <th>3</th>\n",
              "      <td>2</td>\n",
              "      <td>288</td>\n",
              "    </tr>\n",
              "    <tr>\n",
              "      <th>4</th>\n",
              "      <td>gt</td>\n",
              "      <td>288</td>\n",
              "    </tr>\n",
              "    <tr>\n",
              "      <th>5</th>\n",
              "      <td>lt</td>\n",
              "      <td>287</td>\n",
              "    </tr>\n",
              "    <tr>\n",
              "      <th>6</th>\n",
              "      <td>come</td>\n",
              "      <td>275</td>\n",
              "    </tr>\n",
              "    <tr>\n",
              "      <th>7</th>\n",
              "      <td>got</td>\n",
              "      <td>239</td>\n",
              "    </tr>\n",
              "    <tr>\n",
              "      <th>8</th>\n",
              "      <td>like</td>\n",
              "      <td>236</td>\n",
              "    </tr>\n",
              "    <tr>\n",
              "      <th>9</th>\n",
              "      <td>know</td>\n",
              "      <td>235</td>\n",
              "    </tr>\n",
              "    <tr>\n",
              "      <th>10</th>\n",
              "      <td>call</td>\n",
              "      <td>234</td>\n",
              "    </tr>\n",
              "    <tr>\n",
              "      <th>11</th>\n",
              "      <td>time</td>\n",
              "      <td>217</td>\n",
              "    </tr>\n",
              "    <tr>\n",
              "      <th>12</th>\n",
              "      <td>good</td>\n",
              "      <td>214</td>\n",
              "    </tr>\n",
              "    <tr>\n",
              "      <th>13</th>\n",
              "      <td>love</td>\n",
              "      <td>212</td>\n",
              "    </tr>\n",
              "    <tr>\n",
              "      <th>14</th>\n",
              "      <td>want</td>\n",
              "      <td>209</td>\n",
              "    </tr>\n",
              "    <tr>\n",
              "      <th>15</th>\n",
              "      <td>ok</td>\n",
              "      <td>208</td>\n",
              "    </tr>\n",
              "    <tr>\n",
              "      <th>16</th>\n",
              "      <td>ur</td>\n",
              "      <td>203</td>\n",
              "    </tr>\n",
              "    <tr>\n",
              "      <th>17</th>\n",
              "      <td>day</td>\n",
              "      <td>189</td>\n",
              "    </tr>\n",
              "    <tr>\n",
              "      <th>18</th>\n",
              "      <td>ü</td>\n",
              "      <td>172</td>\n",
              "    </tr>\n",
              "    <tr>\n",
              "      <th>19</th>\n",
              "      <td>need</td>\n",
              "      <td>171</td>\n",
              "    </tr>\n",
              "    <tr>\n",
              "      <th>20</th>\n",
              "      <td>one</td>\n",
              "      <td>165</td>\n",
              "    </tr>\n",
              "    <tr>\n",
              "      <th>21</th>\n",
              "      <td>4</td>\n",
              "      <td>161</td>\n",
              "    </tr>\n",
              "    <tr>\n",
              "      <th>22</th>\n",
              "      <td>lor</td>\n",
              "      <td>153</td>\n",
              "    </tr>\n",
              "    <tr>\n",
              "      <th>23</th>\n",
              "      <td>think</td>\n",
              "      <td>150</td>\n",
              "    </tr>\n",
              "    <tr>\n",
              "      <th>24</th>\n",
              "      <td>home</td>\n",
              "      <td>149</td>\n",
              "    </tr>\n",
              "    <tr>\n",
              "      <th>25</th>\n",
              "      <td>see</td>\n",
              "      <td>146</td>\n",
              "    </tr>\n",
              "    <tr>\n",
              "      <th>26</th>\n",
              "      <td>still</td>\n",
              "      <td>143</td>\n",
              "    </tr>\n",
              "    <tr>\n",
              "      <th>27</th>\n",
              "      <td>take</td>\n",
              "      <td>141</td>\n",
              "    </tr>\n",
              "    <tr>\n",
              "      <th>28</th>\n",
              "      <td>da</td>\n",
              "      <td>133</td>\n",
              "    </tr>\n",
              "    <tr>\n",
              "      <th>29</th>\n",
              "      <td>tell</td>\n",
              "      <td>133</td>\n",
              "    </tr>\n",
              "  </tbody>\n",
              "</table>\n",
              "</div>"
            ],
            "text/plain": [
              "        0    1\n",
              "0       u  885\n",
              "1      go  404\n",
              "2     get  351\n",
              "3       2  288\n",
              "4      gt  288\n",
              "5      lt  287\n",
              "6    come  275\n",
              "7     got  239\n",
              "8    like  236\n",
              "9    know  235\n",
              "10   call  234\n",
              "11   time  217\n",
              "12   good  214\n",
              "13   love  212\n",
              "14   want  209\n",
              "15     ok  208\n",
              "16     ur  203\n",
              "17    day  189\n",
              "18      ü  172\n",
              "19   need  171\n",
              "20    one  165\n",
              "21      4  161\n",
              "22    lor  153\n",
              "23  think  150\n",
              "24   home  149\n",
              "25    see  146\n",
              "26  still  143\n",
              "27   take  141\n",
              "28     da  133\n",
              "29   tell  133"
            ]
          },
          "metadata": {},
          "execution_count": 21
        }
      ]
    },
    {
      "cell_type": "markdown",
      "metadata": {
        "id": "KwwEW1kulzOE"
      },
      "source": [
        "## **Model**"
      ]
    },
    {
      "cell_type": "code",
      "metadata": {
        "id": "Ps0tqzL-lWvB"
      },
      "source": [
        "from sklearn.feature_extraction.text import TfidfVectorizer\n",
        "vectorizer = TfidfVectorizer()"
      ],
      "execution_count": 22,
      "outputs": []
    },
    {
      "cell_type": "code",
      "metadata": {
        "colab": {
          "base_uri": "https://localhost:8080/"
        },
        "id": "GtlBcKtEqFQw",
        "outputId": "d0497d18-53d5-4308-9bfc-ebbde0185103"
      },
      "source": [
        "X = vectorizer.fit_transform(dataset['Processed_Message']).toarray()\n",
        "X.shape"
      ],
      "execution_count": 23,
      "outputs": [
        {
          "output_type": "execute_result",
          "data": {
            "text/plain": [
              "(5157, 6702)"
            ]
          },
          "metadata": {},
          "execution_count": 23
        }
      ]
    },
    {
      "cell_type": "code",
      "metadata": {
        "id": "JYBo3aBMrIqL"
      },
      "source": [
        "  y = dataset['Category'].values"
      ],
      "execution_count": 24,
      "outputs": []
    },
    {
      "cell_type": "code",
      "metadata": {
        "colab": {
          "base_uri": "https://localhost:8080/"
        },
        "id": "rztXD9eNtXz2",
        "outputId": "93147fed-ee1f-48ee-b9c7-2abe7d3ffef3"
      },
      "source": [
        "print(X.shape)\n",
        "print(y.shape)\n",
        "print(X)\n",
        "print(y)"
      ],
      "execution_count": 25,
      "outputs": [
        {
          "output_type": "stream",
          "name": "stdout",
          "text": [
            "(5157, 6702)\n",
            "(5157,)\n",
            "[[0. 0. 0. ... 0. 0. 0.]\n",
            " [0. 0. 0. ... 0. 0. 0.]\n",
            " [0. 0. 0. ... 0. 0. 0.]\n",
            " ...\n",
            " [0. 0. 0. ... 0. 0. 0.]\n",
            " [0. 0. 0. ... 0. 0. 0.]\n",
            " [0. 0. 0. ... 0. 0. 0.]]\n",
            "[0 0 1 ... 0 0 0]\n"
          ]
        }
      ]
    },
    {
      "cell_type": "code",
      "metadata": {
        "id": "XvZm2SlIrWSc"
      },
      "source": [
        "from sklearn.model_selection import train_test_split\n",
        "X_train, X_test, y_train, y_test = train_test_split(X,y,test_size=0.2)"
      ],
      "execution_count": 26,
      "outputs": []
    },
    {
      "cell_type": "code",
      "metadata": {
        "id": "EyZcwFbRuDOj"
      },
      "source": [
        "from sklearn.naive_bayes import GaussianNB, MultinomialNB, BernoulliNB\n",
        "from sklearn.svm import SVC\n",
        "from sklearn.neighbors import KNeighborsClassifier\n",
        "from sklearn.metrics import accuracy_score, precision_score, confusion_matrix\n",
        "import time"
      ],
      "execution_count": 43,
      "outputs": []
    },
    {
      "cell_type": "code",
      "metadata": {
        "id": "MHP1WFPlubta"
      },
      "source": [
        "gaussianNB = GaussianNB()\n",
        "multinomialNB = MultinomialNB()\n",
        "bernoulliNB = BernoulliNB()\n",
        "knc = KNeighborsClassifier()\n",
        "svc = SVC(kernel='sigmoid', gamma=1.0)"
      ],
      "execution_count": 44,
      "outputs": []
    },
    {
      "cell_type": "code",
      "metadata": {
        "id": "EKnX9j6_r7Xb"
      },
      "source": [
        "accuracy_scores = []\n",
        "precision_scores = []\n",
        "time_taken = []\n",
        "classifiers = ['Gaussian NB', 'Multinomial NB', 'Bernoulli NB', 'SVC', 'KNC']"
      ],
      "execution_count": 45,
      "outputs": []
    },
    {
      "cell_type": "code",
      "metadata": {
        "id": "Mzc5IhFQupFk"
      },
      "source": [
        "def train_test_classifier(classification):\n",
        "  start = time.process_time()\n",
        "  classification.fit(X_train, y_train)\n",
        "  y_pred = classification.predict(X_test)\n",
        "  accuracy = accuracy_score(y_test, y_pred)\n",
        "  precision = precision_score(y_test, y_pred)\n",
        "  confusion = confusion_matrix(y_test, y_pred)\n",
        "  time_taken.append(time.process_time() - start)\n",
        "  accuracy_scores.append(accuracy)\n",
        "  precision_scores.append(precision)\n",
        "  return accuracy, precision, confusion"
      ],
      "execution_count": 46,
      "outputs": []
    },
    {
      "cell_type": "code",
      "metadata": {
        "colab": {
          "base_uri": "https://localhost:8080/"
        },
        "id": "tHVLu3brw80Z",
        "outputId": "9c22689a-05b3-4f3a-9be9-8ebc778303c1"
      },
      "source": [
        "train_test_classifier(gaussianNB)"
      ],
      "execution_count": 47,
      "outputs": [
        {
          "output_type": "execute_result",
          "data": {
            "text/plain": [
              "(0.8701550387596899, 0.5061728395061729, array([[775, 120],\n",
              "        [ 14, 123]]))"
            ]
          },
          "metadata": {},
          "execution_count": 47
        }
      ]
    },
    {
      "cell_type": "code",
      "metadata": {
        "colab": {
          "base_uri": "https://localhost:8080/"
        },
        "id": "JYBBv5h6sFPp",
        "outputId": "8d921001-5aca-4298-8144-3dfe158adc6a"
      },
      "source": [
        "train_test_classifier(multinomialNB)"
      ],
      "execution_count": 48,
      "outputs": [
        {
          "output_type": "execute_result",
          "data": {
            "text/plain": [
              "(0.9544573643410853, 1.0, array([[895,   0],\n",
              "        [ 47,  90]]))"
            ]
          },
          "metadata": {},
          "execution_count": 48
        }
      ]
    },
    {
      "cell_type": "code",
      "metadata": {
        "colab": {
          "base_uri": "https://localhost:8080/"
        },
        "id": "8ZwEzKQIsIR0",
        "outputId": "b5fa8698-a5bf-4088-8c67-db39d8514cc2"
      },
      "source": [
        "train_test_classifier(bernoulliNB)"
      ],
      "execution_count": 49,
      "outputs": [
        {
          "output_type": "execute_result",
          "data": {
            "text/plain": [
              "(0.9689922480620154, 0.9411764705882353, array([[888,   7],\n",
              "        [ 25, 112]]))"
            ]
          },
          "metadata": {},
          "execution_count": 49
        }
      ]
    },
    {
      "cell_type": "code",
      "metadata": {
        "colab": {
          "base_uri": "https://localhost:8080/"
        },
        "id": "mSwlzVCUsJaM",
        "outputId": "d0f6f9d7-a1cc-4f25-f5a0-15551a938229"
      },
      "source": [
        "train_test_classifier(svc)"
      ],
      "execution_count": 50,
      "outputs": [
        {
          "output_type": "execute_result",
          "data": {
            "text/plain": [
              "(0.9709302325581395, 0.9908256880733946, array([[894,   1],\n",
              "        [ 29, 108]]))"
            ]
          },
          "metadata": {},
          "execution_count": 50
        }
      ]
    },
    {
      "cell_type": "code",
      "metadata": {
        "colab": {
          "base_uri": "https://localhost:8080/"
        },
        "id": "rCxzs8lbK-58",
        "outputId": "f914b561-1ca9-4b7e-dce7-a43a9116decd"
      },
      "source": [
        "train_test_classifier(knc)"
      ],
      "execution_count": 51,
      "outputs": [
        {
          "output_type": "execute_result",
          "data": {
            "text/plain": [
              "(0.9031007751937985, 1.0, array([[895,   0],\n",
              "        [100,  37]]))"
            ]
          },
          "metadata": {},
          "execution_count": 51
        }
      ]
    },
    {
      "cell_type": "code",
      "metadata": {
        "colab": {
          "base_uri": "https://localhost:8080/",
          "height": 206
        },
        "id": "rZIlgnx1sKFX",
        "outputId": "f0eab2ab-9dd3-44da-cd00-525089319fe7"
      },
      "source": [
        "pd.DataFrame({'Classifier':classifiers, 'Accuracy':accuracy_scores, 'Precision':precision_scores, 'Process Time':time_taken}).sort_values(by=['Precision','Accuracy', 'Process Time'], ascending=False)"
      ],
      "execution_count": 53,
      "outputs": [
        {
          "output_type": "execute_result",
          "data": {
            "text/html": [
              "<div>\n",
              "<style scoped>\n",
              "    .dataframe tbody tr th:only-of-type {\n",
              "        vertical-align: middle;\n",
              "    }\n",
              "\n",
              "    .dataframe tbody tr th {\n",
              "        vertical-align: top;\n",
              "    }\n",
              "\n",
              "    .dataframe thead th {\n",
              "        text-align: right;\n",
              "    }\n",
              "</style>\n",
              "<table border=\"1\" class=\"dataframe\">\n",
              "  <thead>\n",
              "    <tr style=\"text-align: right;\">\n",
              "      <th></th>\n",
              "      <th>Classifier</th>\n",
              "      <th>Accuracy</th>\n",
              "      <th>Precision</th>\n",
              "      <th>Process Time</th>\n",
              "    </tr>\n",
              "  </thead>\n",
              "  <tbody>\n",
              "    <tr>\n",
              "      <th>1</th>\n",
              "      <td>Multinomial NB</td>\n",
              "      <td>0.954457</td>\n",
              "      <td>1.000000</td>\n",
              "      <td>0.195075</td>\n",
              "    </tr>\n",
              "    <tr>\n",
              "      <th>4</th>\n",
              "      <td>KNC</td>\n",
              "      <td>0.903101</td>\n",
              "      <td>1.000000</td>\n",
              "      <td>70.776780</td>\n",
              "    </tr>\n",
              "    <tr>\n",
              "      <th>3</th>\n",
              "      <td>SVC</td>\n",
              "      <td>0.970930</td>\n",
              "      <td>0.990826</td>\n",
              "      <td>50.093299</td>\n",
              "    </tr>\n",
              "    <tr>\n",
              "      <th>2</th>\n",
              "      <td>Bernoulli NB</td>\n",
              "      <td>0.968992</td>\n",
              "      <td>0.941176</td>\n",
              "      <td>0.459153</td>\n",
              "    </tr>\n",
              "    <tr>\n",
              "      <th>0</th>\n",
              "      <td>Gaussian NB</td>\n",
              "      <td>0.870155</td>\n",
              "      <td>0.506173</td>\n",
              "      <td>0.415425</td>\n",
              "    </tr>\n",
              "  </tbody>\n",
              "</table>\n",
              "</div>"
            ],
            "text/plain": [
              "       Classifier  Accuracy  Precision  Process Time\n",
              "1  Multinomial NB  0.954457   1.000000      0.195075\n",
              "4             KNC  0.903101   1.000000     70.776780\n",
              "3             SVC  0.970930   0.990826     50.093299\n",
              "2    Bernoulli NB  0.968992   0.941176      0.459153\n",
              "0     Gaussian NB  0.870155   0.506173      0.415425"
            ]
          },
          "metadata": {},
          "execution_count": 53
        }
      ]
    }
  ]
}